{
  "nbformat": 4,
  "nbformat_minor": 0,
  "metadata": {
    "colab": {
      "name": "Trabalho LP .ipynb",
      "provenance": [],
      "collapsed_sections": [
        "BoPHh__oivde",
        "gQGRDbXQiyx8"
      ]
    },
    "kernelspec": {
      "name": "python3",
      "display_name": "Python 3"
    },
    "language_info": {
      "name": "python"
    }
  },
  "cells": [
    {
      "cell_type": "markdown",
      "source": [
        "# Exercício 1\n"
      ],
      "metadata": {
        "id": "E-hg2zRwr3nx"
      }
    },
    {
      "cell_type": "code",
      "source": [
        "class Calculadora:\n",
        "    def __init__(self,a,b) -> None:\n",
        "        self.a=a\n",
        "        self.b=b\n",
        "    def somar(self):\n",
        "        return self.a+self.b\n",
        "    def subtrair(self):\n",
        "        return self.a-self.b\n",
        "    def dividir(self):\n",
        "        return self.a/self.b\n",
        "    def multiplicar(self):\n",
        "        return self.a*self.b\n",
        "    def exponenciação(self):\n",
        "        return self.a**self.b\n",
        "    def modulo(self):\n",
        "        return self.a%self.b\n",
        "\n",
        "def menu(): \n",
        "  print('soma 1 - subtração 2 - divisão 3 - multiplicação 4 - exponenciação 5 - modulo 6.')\n",
        "  op=int(input('Digite o número referente a operação desejada: '))\n",
        "  if op == 1:\n",
        "      print(c.somar())\n",
        "  if op == 2:\n",
        "      print(c.subtrair())\n",
        "  if op == 3:\n",
        "      print(c.dividir())\n",
        "  if op == 4:\n",
        "      print(c.multiplicar())\n",
        "  if op == 5:\n",
        "      print(c.exponenciação())\n",
        "  if op == 6:\n",
        "      print(c.modulo())\n",
        "  print('\\n')\n",
        "  2\n",
        "c = Calculadora(5,7)\n",
        "\n",
        "menu()\n",
        "menu()\n",
        "menu()\n",
        "menu()\n",
        "menu()\n",
        "menu()"
      ],
      "metadata": {
        "colab": {
          "base_uri": "https://localhost:8080/"
        },
        "id": "OuuPqQMBsCoJ",
        "outputId": "31417fa3-6274-41dc-cd60-6a6d9e0b0b25"
      },
      "execution_count": null,
      "outputs": [
        {
          "output_type": "stream",
          "name": "stdout",
          "text": [
            "soma 1 - subtração 2 - divisão 3 - multiplicação 4 - exponenciação 5 - modulo 6.\n",
            "Digite o número referente a operação desejada: 1\n",
            "12\n",
            "\n",
            "\n",
            "soma 1 - subtração 2 - divisão 3 - multiplicação 4 - exponenciação 5 - modulo 6.\n",
            "Digite o número referente a operação desejada: 2\n",
            "-2\n",
            "\n",
            "\n",
            "soma 1 - subtração 2 - divisão 3 - multiplicação 4 - exponenciação 5 - modulo 6.\n",
            "Digite o número referente a operação desejada: 3\n",
            "0.7142857142857143\n",
            "\n",
            "\n",
            "soma 1 - subtração 2 - divisão 3 - multiplicação 4 - exponenciação 5 - modulo 6.\n",
            "Digite o número referente a operação desejada: 4\n",
            "35\n",
            "\n",
            "\n",
            "soma 1 - subtração 2 - divisão 3 - multiplicação 4 - exponenciação 5 - modulo 6.\n",
            "Digite o número referente a operação desejada: 5\n",
            "78125\n",
            "\n",
            "\n",
            "soma 1 - subtração 2 - divisão 3 - multiplicação 4 - exponenciação 5 - modulo 6.\n",
            "Digite o número referente a operação desejada: 6\n",
            "5\n",
            "\n",
            "\n"
          ]
        }
      ]
    },
    {
      "cell_type": "markdown",
      "source": [
        "# Exercício 2"
      ],
      "metadata": {
        "id": "BoPHh__oivde"
      }
    },
    {
      "cell_type": "code",
      "execution_count": null,
      "metadata": {
        "id": "Vc6np0JXUZQb"
      },
      "outputs": [],
      "source": [
        "import matplotlib.pyplot as plt\n",
        "import numpy as np\n",
        "\n",
        "a = 8\n",
        "b = 5\n",
        "c = 7\n",
        "\n",
        "def f(x):\n",
        "  return a*x + x*b - c"
      ]
    },
    {
      "cell_type": "code",
      "source": [
        "x = [5, 7, 9]\n",
        "y = [f(5), f(7), f(9)]\n",
        "\n",
        "plt.title(\"Exercício 2\")\n",
        "\n",
        "plt.xlabel('Eixo X')\n",
        "plt.ylabel('Eixo Y')\n",
        "plt.plot(x, y, color='red', label='Reta')\n",
        "\n",
        "plt.plot(x[0], y[0], 'ro', color='blue', label = 'X = 5')\n",
        "plt.plot(x[1], y[1], 'ro', color='green', label = 'X = 7')\n",
        "plt.plot(x[2], y[2], 'ro', color='black', label = 'X = 9')\n",
        "\n",
        "plt.legend(loc='upper left')\n",
        "\n",
        "plt.show()"
      ],
      "metadata": {
        "colab": {
          "base_uri": "https://localhost:8080/",
          "height": 295
        },
        "id": "VqoCXvibUjsY",
        "outputId": "db6ebf36-62c0-430c-fa41-a02746a90dcd"
      },
      "execution_count": null,
      "outputs": [
        {
          "output_type": "display_data",
          "data": {
            "text/plain": [
              "<Figure size 432x288 with 1 Axes>"
            ],
            "image/png": "[encoded data removed]"
          },
          "metadata": {
            "needs_background": "light"
          }
        }
      ]
    },
    {
      "cell_type": "markdown",
      "source": [
        "# Exercício 3"
      ],
      "metadata": {
        "id": "gQGRDbXQiyx8"
      }
    },
    {
      "cell_type": "code",
      "source": [
        "from google.colab import drive\n",
        "drive.mount('/content/drive', force_remount=True)\n",
        "import pandas as pd\n",
        "\n",
        "df = pd.read_csv(\"drive/My Drive/STORES.csv\")\n",
        "df = df.rename(columns={\"Store ID \": \"id\", \"Store_Area\": \"area\", \"Items_Available\": \"items\", \"Daily_Customer_Count\": \"visitantes\", \"Store_Sales\": \"vendas\"})"
      ],
      "metadata": {
        "id": "FNcMyQPGjEDW",
        "colab": {
          "base_uri": "https://localhost:8080/"
        },
        "outputId": "d2a84372-2978-4b1b-cad9-3797d2e10b94"
      },
      "execution_count": null,
      "outputs": [
        {
          "output_type": "stream",
          "name": "stdout",
          "text": [
            "Mounted at /content/drive\n"
          ]
        }
      ]
    },
    {
      "cell_type": "code",
      "source": [
        "df.head()"
      ],
      "metadata": {
        "colab": {
          "base_uri": "https://localhost:8080/"
        },
        "id": "iYbt3UBgmpIX",
        "outputId": "4bec7708-fcf3-4042-9dcc-800b43b55a5e"
      },
      "execution_count": null,
      "outputs": [
        {
          "output_type": "execute_result",
          "data": {
            "text/plain": [
              "   id  area  items  visitantes  vendas\n",
              "0   1  1659   1961         530   66490\n",
              "1   2  1461   1752         210   39820\n",
              "2   3  1340   1609         720   54010\n",
              "3   4  1451   1748         620   53730\n",
              "4   5  1770   2111         450   46620"
            ],
            "text/html": [
              "\n",
              "  <div id=\"df-058a0d80-b820-497c-b31e-bcc197f43377\">\n",
              "    <div class=\"colab-df-container\">\n",
              "      <div>\n",
              "<style scoped>\n",
              "    .dataframe tbody tr th:only-of-type {\n",
              "        vertical-align: middle;\n",
              "    }\n",
              "\n",
              "    .dataframe tbody tr th {\n",
              "        vertical-align: top;\n",
              "    }\n",
              "\n",
              "    .dataframe thead th {\n",
              "        text-align: right;\n",
              "    }\n",
              "</style>\n",
              "<table border=\"1\" class=\"dataframe\">\n",
              "  <thead>\n",
              "    <tr style=\"text-align: right;\">\n",
              "      <th></th>\n",
              "      <th>id</th>\n",
              "      <th>area</th>\n",
              "      <th>items</th>\n",
              "      <th>visitantes</th>\n",
              "      <th>vendas</th>\n",
              "    </tr>\n",
              "  </thead>\n",
              "  <tbody>\n",
              "    <tr>\n",
              "      <th>0</th>\n",
              "      <td>1</td>\n",
              "      <td>1659</td>\n",
              "      <td>1961</td>\n",
              "      <td>530</td>\n",
              "      <td>66490</td>\n",
              "    </tr>\n",
              "    <tr>\n",
              "      <th>1</th>\n",
              "      <td>2</td>\n",
              "      <td>1461</td>\n",
              "      <td>1752</td>\n",
              "      <td>210</td>\n",
              "      <td>39820</td>\n",
              "    </tr>\n",
              "    <tr>\n",
              "      <th>2</th>\n",
              "      <td>3</td>\n",
              "      <td>1340</td>\n",
              "      <td>1609</td>\n",
              "      <td>720</td>\n",
              "      <td>54010</td>\n",
              "    </tr>\n",
              "    <tr>\n",
              "      <th>3</th>\n",
              "      <td>4</td>\n",
              "      <td>1451</td>\n",
              "      <td>1748</td>\n",
              "      <td>620</td>\n",
              "      <td>53730</td>\n",
              "    </tr>\n",
              "    <tr>\n",
              "      <th>4</th>\n",
              "      <td>5</td>\n",
              "      <td>1770</td>\n",
              "      <td>2111</td>\n",
              "      <td>450</td>\n",
              "      <td>46620</td>\n",
              "    </tr>\n",
              "  </tbody>\n",
              "</table>\n",
              "</div>\n",
              "      <button class=\"colab-df-convert\" onclick=\"convertToInteractive('df-058a0d80-b820-497c-b31e-bcc197f43377')\"\n",
              "              title=\"Convert this dataframe to an interactive table.\"\n",
              "              style=\"display:none;\">\n",
              "        \n",
              "  <svg xmlns=\"http://www.w3.org/2000/svg\" height=\"24px\"viewBox=\"0 0 24 24\"\n",
              "       width=\"24px\">\n",
              "    <path d=\"M0 0h24v24H0V0z\" fill=\"none\"/>\n",
              "    <path d=\"M18.56 5.44l.94 2.06.94-2.06 2.06-.94-2.06-.94-.94-2.06-.94 2.06-2.06.94zm-11 1L8.5 8.5l.94-2.06 2.06-.94-2.06-.94L8.5 2.5l-.94 2.06-2.06.94zm10 10l.94 2.06.94-2.06 2.06-.94-2.06-.94-.94-2.06-.94 2.06-2.06.94z\"/><path d=\"M17.41 7.96l-1.37-1.37c-.4-.4-.92-.59-1.43-.59-.52 0-1.04.2-1.43.59L10.3 9.45l-7.72 7.72c-.78.78-.78 2.05 0 2.83L4 21.41c.39.39.9.59 1.41.59.51 0 1.02-.2 1.41-.59l7.78-7.78 2.81-2.81c.8-.78.8-2.07 0-2.86zM5.41 20L4 18.59l7.72-7.72 1.47 1.35L5.41 20z\"/>\n",
              "  </svg>\n",
              "      </button>\n",
              "      \n",
              "  <style>\n",
              "    .colab-df-container {\n",
              "      display:flex;\n",
              "      flex-wrap:wrap;\n",
              "      gap: 12px;\n",
              "    }\n",
              "\n",
              "    .colab-df-convert {\n",
              "      background-color: #E8F0FE;\n",
              "      border: none;\n",
              "      border-radius: 50%;\n",
              "      cursor: pointer;\n",
              "      display: none;\n",
              "      fill: #1967D2;\n",
              "      height: 32px;\n",
              "      padding: 0 0 0 0;\n",
              "      width: 32px;\n",
              "    }\n",
              "\n",
              "    .colab-df-convert:hover {\n",
              "      background-color: #E2EBFA;\n",
              "      box-shadow: 0px 1px 2px rgba(60, 64, 67, 0.3), 0px 1px 3px 1px rgba(60, 64, 67, 0.15);\n",
              "      fill: #174EA6;\n",
              "    }\n",
              "\n",
              "    [theme=dark] .colab-df-convert {\n",
              "      background-color: #3B4455;\n",
              "      fill: #D2E3FC;\n",
              "    }\n",
              "\n",
              "    [theme=dark] .colab-df-convert:hover {\n",
              "      background-color: #434B5C;\n",
              "      box-shadow: 0px 1px 3px 1px rgba(0, 0, 0, 0.15);\n",
              "      filter: drop-shadow(0px 1px 2px rgba(0, 0, 0, 0.3));\n",
              "      fill: #FFFFFF;\n",
              "    }\n",
              "  </style>\n",
              "\n",
              "      <script>\n",
              "        const buttonEl =\n",
              "          document.querySelector('#df-058a0d80-b820-497c-b31e-bcc197f43377 button.colab-df-convert');\n",
              "        buttonEl.style.display =\n",
              "          google.colab.kernel.accessAllowed ? 'block' : 'none';\n",
              "\n",
              "        async function convertToInteractive(key) {\n",
              "          const element = document.querySelector('#df-058a0d80-b820-497c-b31e-bcc197f43377');\n",
              "          const dataTable =\n",
              "            await google.colab.kernel.invokeFunction('convertToInteractive',\n",
              "                                                     [key], {});\n",
              "          if (!dataTable) return;\n",
              "\n",
              "          const docLinkHtml = 'Like what you see? Visit the ' +\n",
              "            '<a target=\"_blank\" href=https://colab.research.google.com/notebooks/data_table.ipynb>data table notebook</a>'\n",
              "            + ' to learn more about interactive tables.';\n",
              "          element.innerHTML = '';\n",
              "          dataTable['output_type'] = 'display_data';\n",
              "          await google.colab.output.renderOutput(dataTable, element);\n",
              "          const docLink = document.createElement('div');\n",
              "          docLink.innerHTML = docLinkHtml;\n",
              "          element.appendChild(docLink);\n",
              "        }\n",
              "      </script>\n",
              "    </div>\n",
              "  </div>\n",
              "  "
            ]
          },
          "metadata": {},
          "execution_count": 2
        }
      ]
    },
    {
      "cell_type": "code",
      "source": [
        "print(\"MÍNIMO:\")\n",
        "print(str(df[['items', 'visitantes', 'vendas']].min(axis=0)) + '\\n')\n",
        "\n",
        "print(\"MAXIMO:\")\n",
        "print(str(df[['items', 'visitantes', 'vendas']].max(axis=0)) + '\\n')\n",
        "\n",
        "print(\"MEDIA:\")\n",
        "print(str(df[['items', 'visitantes', 'vendas']].mean(axis=0)) + '\\n')\n",
        "\n",
        "print(\"DESVIO PADRÃO:\")\n",
        "print(str(df[['items', 'visitantes', 'vendas']].std(axis=0)) + '\\n')"
      ],
      "metadata": {
        "colab": {
          "base_uri": "https://localhost:8080/"
        },
        "id": "4Mtmnmh8o5FA",
        "outputId": "9dd53246-7828-4839-97f2-b3cf7c265809"
      },
      "execution_count": null,
      "outputs": [
        {
          "output_type": "stream",
          "name": "stdout",
          "text": [
            "MÍNIMO:\n",
            "items           932\n",
            "visitantes       10\n",
            "vendas        14920\n",
            "dtype: int64\n",
            "\n",
            "MAXIMO:\n",
            "items           2667\n",
            "visitantes      1560\n",
            "vendas        116320\n",
            "dtype: int64\n",
            "\n",
            "MEDIA:\n",
            "items          1782.035714\n",
            "visitantes      786.350446\n",
            "vendas        59351.305804\n",
            "dtype: float64\n",
            "\n",
            "DESVIO PADRÃO:\n",
            "items           299.872053\n",
            "visitantes      265.389281\n",
            "vendas        17190.741895\n",
            "dtype: float64\n",
            "\n"
          ]
        }
      ]
    }
  ]
}